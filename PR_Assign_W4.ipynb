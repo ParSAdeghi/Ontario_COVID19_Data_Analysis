{
 "cells": [
  {
   "cell_type": "markdown",
   "metadata": {},
   "source": [
    "# Project Title: Analysis of COVID cases in Ontario, CA\n",
    "Owned by Asghar Sadeghi, PhD, Dec. 2020"
   ]
  },
  {
   "cell_type": "markdown",
   "metadata": {},
   "source": [
    "## Week 4 - Part A: Statement of the Problem\n",
    "\n",
    "In this study, we plan to analyze the COVID-19 cases in Ontario province. Currently, we observe the second wave of pandemic and the government plans to impose additional restrictions on different counties. Given the venues in the neighborhood of a medical center and the number of confirmed cases, we try to cluster similar cities/counties in terms of COVID behaviour and consult the government to make decisions accordingly.\n",
    "In the first section we analyze the data, then we try to map it, later the neighborhoud venues will be extraced using FourSquare, and as the final step the data will be clustered to 5 different categories to restrict the interactions.\n",
    "The first audience of this study would be the Government of Ontario and the Mayers and City councils, but the citizens also could be the second audience."
   ]
  },
  {
   "cell_type": "markdown",
   "metadata": {},
   "source": [
    "### Import libraries\n",
    "The required libraries are installed or called in this section."
   ]
  },
  {
   "cell_type": "code",
   "execution_count": 1,
   "metadata": {},
   "outputs": [
    {
     "name": "stdout",
     "output_type": "stream",
     "text": [
      "Libraries imported. - Confirmed\n"
     ]
    }
   ],
   "source": [
    "import numpy as np # library to handle data in a vectorized manner\n",
    "import pandas as pd # library for data analsysis\n",
    "pd.set_option('display.max_columns', None)\n",
    "pd.set_option('display.max_rows', None)\n",
    "\n",
    "#!conda install -c anaconda beautifulsoup4 --yes\n",
    "from bs4 import BeautifulSoup\n",
    "\n",
    "import json # library to handle JSON files\n",
    "\n",
    "#!conda install -c conda-forge geopy --yes # uncomment this line if you haven't completed the Foursquare API lab\n",
    "from geopy.geocoders import Nominatim # convert an address into latitude and longitude values\n",
    "\n",
    "import requests # library to handle requests\n",
    "from pandas.io.json import json_normalize # tranform JSON file into a pandas dataframe\n",
    "\n",
    "# Matplotlib and associated plotting modules\n",
    "import matplotlib.cm as cm\n",
    "import matplotlib.colors as colors\n",
    "\n",
    "# import k-means from clustering stage\n",
    "from sklearn.cluster import KMeans\n",
    "\n",
    "#!conda install -c conda-forge folium=0.5.0 --yes # uncomment this line if you haven't completed the Foursquare API lab\n",
    "import folium # map rendering library\n",
    "\n",
    "# we are using the inline backend\n",
    "%matplotlib inline \n",
    "import matplotlib as mpl\n",
    "import matplotlib.pyplot as plt\n",
    "import datetime\n",
    "\n",
    "import os\n",
    "import matplotlib.pyplot as plt\n",
    "import matplotlib.dates as mdates\n",
    "from matplotlib.dates import DateFormatter\n",
    "import seaborn as sns\n",
    "\n",
    "# Handle date time conversions between pandas and matplotlib\n",
    "from pandas.plotting import register_matplotlib_converters\n",
    "register_matplotlib_converters()\n",
    "\n",
    "# Use white grid plot background from seaborn\n",
    "sns.set(font_scale=1.5, style=\"whitegrid\")\n",
    "\n",
    "%matplotlib inline\n",
    "import matplotlib\n",
    "matplotlib.style.use('ggplot')\n",
    "\n",
    "print('Libraries imported. - Confirmed')"
   ]
  },
  {
   "cell_type": "markdown",
   "metadata": {},
   "source": [
    "## Week 4 - Part B: Data Section\n",
    "The data is live COVID data that is being posted on the \"https://data.ontario.ca\". It includes all reported cases since the start of pandemic.\n",
    "The columns for each case are the exact episode date, age grouped by decade, gender, outcome (recovered, active, and death), Reporting PHU ID, PHU name, postal code, latitude and longitude.\n",
    "Furthermore, using the Foursquare website, the venues near each public health unit (PHU) is extracted to find a relation between venues and the number of confirmed cases.\n",
    "Data URL: https://data.ontario.ca/dataset/f4112442-bdc8-45d2-be3c-12efae72fb27/resource/455fd63b-603d-4608-8216-7d8647f43350/download/conposcovidloc.csv"
   ]
  },
  {
   "cell_type": "code",
   "execution_count": 2,
   "metadata": {},
   "outputs": [],
   "source": [
    "links={'COVID_Cases_Ontario':'https://data.ontario.ca/dataset/f4112442-bdc8-45d2-be3c-12efae72fb27/resource/455fd63b-603d-4608-8216-7d8647f43350/download/conposcovidloc.csv'}"
   ]
  },
  {
   "cell_type": "code",
   "execution_count": 3,
   "metadata": {},
   "outputs": [],
   "source": [
    "csv_path = links[\"COVID_Cases_Ontario\"]\n",
    "df_covid = pd.read_csv(csv_path)\n",
    "df_covid.drop(['Case_Reported_Date', 'Test_Reported_Date', 'Specimen_Date', 'Case_AcquisitionInfo', 'Outbreak_Related', 'Reporting_PHU_Address','Reporting_PHU_City','Reporting_PHU_Website'], axis=1, inplace=True)"
   ]
  },
  {
   "cell_type": "code",
   "execution_count": 4,
   "metadata": {},
   "outputs": [
    {
     "name": "stdout",
     "output_type": "stream",
     "text": [
      "After cleaning, number of confirmed cases are: 119915\n"
     ]
    }
   ],
   "source": [
    "df_covid['Age_Group'].replace('UNKNOWN', np.nan)\n",
    "df_covid.dropna(axis=0, how='any', thresh=None, subset=None, inplace=True)\n",
    "print ('After cleaning, number of confirmed cases are:', df_covid.shape[0])"
   ]
  },
  {
   "cell_type": "markdown",
   "metadata": {},
   "source": [
    "Table 1: Daily COVID-19 Cases, Ontario Province"
   ]
  },
  {
   "cell_type": "code",
   "execution_count": 5,
   "metadata": {},
   "outputs": [
    {
     "data": {
      "text/html": [
       "<div>\n",
       "<style scoped>\n",
       "    .dataframe tbody tr th:only-of-type {\n",
       "        vertical-align: middle;\n",
       "    }\n",
       "\n",
       "    .dataframe tbody tr th {\n",
       "        vertical-align: top;\n",
       "    }\n",
       "\n",
       "    .dataframe thead th {\n",
       "        text-align: right;\n",
       "    }\n",
       "</style>\n",
       "<table border=\"1\" class=\"dataframe\">\n",
       "  <thead>\n",
       "    <tr style=\"text-align: right;\">\n",
       "      <th></th>\n",
       "      <th>Row_ID</th>\n",
       "      <th>Accurate_Episode_Date</th>\n",
       "      <th>Age_Group</th>\n",
       "      <th>Client_Gender</th>\n",
       "      <th>Outcome1</th>\n",
       "      <th>Reporting_PHU_ID</th>\n",
       "      <th>Reporting_PHU</th>\n",
       "      <th>Reporting_PHU_Postal_Code</th>\n",
       "      <th>Reporting_PHU_Latitude</th>\n",
       "      <th>Reporting_PHU_Longitude</th>\n",
       "    </tr>\n",
       "  </thead>\n",
       "  <tbody>\n",
       "    <tr>\n",
       "      <th>0</th>\n",
       "      <td>1</td>\n",
       "      <td>2020-11-18</td>\n",
       "      <td>60s</td>\n",
       "      <td>FEMALE</td>\n",
       "      <td>Not Resolved</td>\n",
       "      <td>4913</td>\n",
       "      <td>Southwestern Public Health</td>\n",
       "      <td>N5P 1G9</td>\n",
       "      <td>42.777804</td>\n",
       "      <td>-81.151156</td>\n",
       "    </tr>\n",
       "    <tr>\n",
       "      <th>1</th>\n",
       "      <td>2</td>\n",
       "      <td>2020-10-30</td>\n",
       "      <td>50s</td>\n",
       "      <td>MALE</td>\n",
       "      <td>Resolved</td>\n",
       "      <td>4913</td>\n",
       "      <td>Southwestern Public Health</td>\n",
       "      <td>N5P 1G9</td>\n",
       "      <td>42.777804</td>\n",
       "      <td>-81.151156</td>\n",
       "    </tr>\n",
       "    <tr>\n",
       "      <th>2</th>\n",
       "      <td>3</td>\n",
       "      <td>2020-10-28</td>\n",
       "      <td>50s</td>\n",
       "      <td>MALE</td>\n",
       "      <td>Resolved</td>\n",
       "      <td>4913</td>\n",
       "      <td>Southwestern Public Health</td>\n",
       "      <td>N5P 1G9</td>\n",
       "      <td>42.777804</td>\n",
       "      <td>-81.151156</td>\n",
       "    </tr>\n",
       "    <tr>\n",
       "      <th>3</th>\n",
       "      <td>4</td>\n",
       "      <td>2020-11-17</td>\n",
       "      <td>50s</td>\n",
       "      <td>MALE</td>\n",
       "      <td>Resolved</td>\n",
       "      <td>2234</td>\n",
       "      <td>Haldimand-Norfolk Health Unit</td>\n",
       "      <td>N3Y 4N5</td>\n",
       "      <td>42.847825</td>\n",
       "      <td>-80.303815</td>\n",
       "    </tr>\n",
       "    <tr>\n",
       "      <th>4</th>\n",
       "      <td>5</td>\n",
       "      <td>2020-11-06</td>\n",
       "      <td>60s</td>\n",
       "      <td>MALE</td>\n",
       "      <td>Resolved</td>\n",
       "      <td>2227</td>\n",
       "      <td>Brant County Health Unit</td>\n",
       "      <td>N3R 1G7</td>\n",
       "      <td>43.151811</td>\n",
       "      <td>-80.274374</td>\n",
       "    </tr>\n",
       "  </tbody>\n",
       "</table>\n",
       "</div>"
      ],
      "text/plain": [
       "   Row_ID Accurate_Episode_Date Age_Group Client_Gender      Outcome1  \\\n",
       "0       1            2020-11-18       60s        FEMALE  Not Resolved   \n",
       "1       2            2020-10-30       50s          MALE      Resolved   \n",
       "2       3            2020-10-28       50s          MALE      Resolved   \n",
       "3       4            2020-11-17       50s          MALE      Resolved   \n",
       "4       5            2020-11-06       60s          MALE      Resolved   \n",
       "\n",
       "   Reporting_PHU_ID                  Reporting_PHU Reporting_PHU_Postal_Code  \\\n",
       "0              4913     Southwestern Public Health                   N5P 1G9   \n",
       "1              4913     Southwestern Public Health                   N5P 1G9   \n",
       "2              4913     Southwestern Public Health                   N5P 1G9   \n",
       "3              2234  Haldimand-Norfolk Health Unit                   N3Y 4N5   \n",
       "4              2227       Brant County Health Unit                   N3R 1G7   \n",
       "\n",
       "   Reporting_PHU_Latitude  Reporting_PHU_Longitude  \n",
       "0               42.777804               -81.151156  \n",
       "1               42.777804               -81.151156  \n",
       "2               42.777804               -81.151156  \n",
       "3               42.847825               -80.303815  \n",
       "4               43.151811               -80.274374  "
      ]
     },
     "execution_count": 5,
     "metadata": {},
     "output_type": "execute_result"
    }
   ],
   "source": [
    "df_covid['Accurate_Episode_Date'] = pd.to_datetime(df_covid['Accurate_Episode_Date'])\n",
    "df_covid.head()"
   ]
  },
  {
   "cell_type": "markdown",
   "metadata": {},
   "source": [
    "Table 2: Grouped number of confirmed cases for each PHU"
   ]
  },
  {
   "cell_type": "code",
   "execution_count": 6,
   "metadata": {},
   "outputs": [
    {
     "data": {
      "text/html": [
       "<div>\n",
       "<style scoped>\n",
       "    .dataframe tbody tr th:only-of-type {\n",
       "        vertical-align: middle;\n",
       "    }\n",
       "\n",
       "    .dataframe tbody tr th {\n",
       "        vertical-align: top;\n",
       "    }\n",
       "\n",
       "    .dataframe thead th {\n",
       "        text-align: right;\n",
       "    }\n",
       "</style>\n",
       "<table border=\"1\" class=\"dataframe\">\n",
       "  <thead>\n",
       "    <tr style=\"text-align: right;\">\n",
       "      <th></th>\n",
       "      <th>Reporting_PHU</th>\n",
       "      <th>Row_ID</th>\n",
       "    </tr>\n",
       "  </thead>\n",
       "  <tbody>\n",
       "    <tr>\n",
       "      <th>0</th>\n",
       "      <td>Algoma Public Health Unit</td>\n",
       "      <td>61</td>\n",
       "    </tr>\n",
       "    <tr>\n",
       "      <th>1</th>\n",
       "      <td>Brant County Health Unit</td>\n",
       "      <td>608</td>\n",
       "    </tr>\n",
       "    <tr>\n",
       "      <th>2</th>\n",
       "      <td>Chatham-Kent Health Unit</td>\n",
       "      <td>510</td>\n",
       "    </tr>\n",
       "    <tr>\n",
       "      <th>3</th>\n",
       "      <td>Durham Region Health Department</td>\n",
       "      <td>4636</td>\n",
       "    </tr>\n",
       "    <tr>\n",
       "      <th>4</th>\n",
       "      <td>Eastern Ontario Health Unit</td>\n",
       "      <td>853</td>\n",
       "    </tr>\n",
       "  </tbody>\n",
       "</table>\n",
       "</div>"
      ],
      "text/plain": [
       "                     Reporting_PHU  Row_ID\n",
       "0        Algoma Public Health Unit      61\n",
       "1         Brant County Health Unit     608\n",
       "2         Chatham-Kent Health Unit     510\n",
       "3  Durham Region Health Department    4636\n",
       "4      Eastern Ontario Health Unit     853"
      ]
     },
     "execution_count": 6,
     "metadata": {},
     "output_type": "execute_result"
    }
   ],
   "source": [
    "df_covid_count = pd.DataFrame(df_covid.groupby(['Reporting_PHU'])['Row_ID'].count())\n",
    "df_covid_count = df_covid_count.reset_index()\n",
    "df_covid_count.head()"
   ]
  },
  {
   "cell_type": "code",
   "execution_count": 7,
   "metadata": {},
   "outputs": [],
   "source": [
    "df_covid_loc = pd.DataFrame(df_covid.groupby(['Reporting_PHU','Reporting_PHU_Postal_Code'],as_index=True).mean())\n",
    "df_covid_loc = df_covid_loc.reset_index()\n",
    "df_covid_loc.drop(['Row_ID'], axis=1, inplace=True)"
   ]
  },
  {
   "cell_type": "code",
   "execution_count": 8,
   "metadata": {},
   "outputs": [],
   "source": [
    "df_covid_final=pd.merge(df_covid_count,df_covid_loc)\n",
    "df_covid_final['Norm_Cases']=df_covid_final['Row_ID']*100/df_covid_final['Row_ID'].sum()"
   ]
  },
  {
   "cell_type": "markdown",
   "metadata": {},
   "source": [
    "## Define Foursquare Credentials and Version"
   ]
  },
  {
   "cell_type": "code",
   "execution_count": 9,
   "metadata": {},
   "outputs": [],
   "source": [
    "CLIENT_ID = '5CI5CO1LEUXWI12VXCOO1O0UUHPD5RHARRWPV02DQULDLVNM' # your Foursquare ID\n",
    "CLIENT_SECRET = '0NCZVFFNU3WGX0VVX4UXFBSSKSUKVEYJWG1ZB22LO3SQO4MK' # your Foursquare Secret\n",
    "VERSION = '20180605' # Foursquare API version\n",
    "LIMIT = 100 # A default Foursquare API limit value\n",
    "\n",
    "#print('Your credentails:')\n",
    "#print('CLIENT_ID: ' + CLIENT_ID)\n",
    "#print('CLIENT_SECRET:' + CLIENT_SECRET)"
   ]
  },
  {
   "cell_type": "markdown",
   "metadata": {},
   "source": [
    "## Nearby Venues attached to each PHU"
   ]
  },
  {
   "cell_type": "code",
   "execution_count": 10,
   "metadata": {},
   "outputs": [],
   "source": [
    "def getNearbyVenues(names, latitudes, longitudes, radius=3000):\n",
    "    \n",
    "    venues_list=[]\n",
    "    for name, lat, lng in zip(names, latitudes, longitudes):\n",
    "        #print(name)\n",
    "            \n",
    "        # create the API request URL\n",
    "        url = 'https://api.foursquare.com/v2/venues/explore?&client_id={}&client_secret={}&v={}&ll={},{}&radius={}&limit={}'.format(\n",
    "            CLIENT_ID, \n",
    "            CLIENT_SECRET, \n",
    "            VERSION, \n",
    "            lat, \n",
    "            lng, \n",
    "            radius, \n",
    "            LIMIT)\n",
    "            \n",
    "        # make the GET request\n",
    "        results = requests.get(url).json()[\"response\"]['groups'][0]['items']\n",
    "        \n",
    "        # return only relevant information for each nearby venue\n",
    "        venues_list.append([(\n",
    "            name, \n",
    "            lat, \n",
    "            lng, \n",
    "            v['venue']['name'], \n",
    "            v['venue']['location']['lat'], \n",
    "            v['venue']['location']['lng'],  \n",
    "            v['venue']['categories'][0]['name']) for v in results])\n",
    "\n",
    "    nearby_venues = pd.DataFrame([item for venue_list in venues_list for item in venue_list])\n",
    "    nearby_venues.columns = ['Reporting_PHU', \n",
    "                  'Neighborhood Latitude', \n",
    "                  'Neighborhood Longitude', \n",
    "                  'Venue', \n",
    "                  'Venue Latitude', \n",
    "                  'Venue Longitude', \n",
    "                  'Venue Category']\n",
    "    \n",
    "    return(nearby_venues)"
   ]
  },
  {
   "cell_type": "code",
   "execution_count": 11,
   "metadata": {},
   "outputs": [],
   "source": [
    "# type your answer here\n",
    "Ontario_venues = getNearbyVenues(names = df_covid_final['Reporting_PHU'],\n",
    "                                   latitudes = df_covid_final['Reporting_PHU_Latitude'],\n",
    "                                   longitudes = df_covid_final['Reporting_PHU_Longitude']\n",
    "                                 )\n"
   ]
  },
  {
   "cell_type": "markdown",
   "metadata": {},
   "source": [
    "Table 3: Venues around each Public Health Unit (PHU)"
   ]
  },
  {
   "cell_type": "code",
   "execution_count": 12,
   "metadata": {},
   "outputs": [
    {
     "name": "stdout",
     "output_type": "stream",
     "text": [
      "(2355, 7)\n"
     ]
    },
    {
     "data": {
      "text/html": [
       "<div>\n",
       "<style scoped>\n",
       "    .dataframe tbody tr th:only-of-type {\n",
       "        vertical-align: middle;\n",
       "    }\n",
       "\n",
       "    .dataframe tbody tr th {\n",
       "        vertical-align: top;\n",
       "    }\n",
       "\n",
       "    .dataframe thead th {\n",
       "        text-align: right;\n",
       "    }\n",
       "</style>\n",
       "<table border=\"1\" class=\"dataframe\">\n",
       "  <thead>\n",
       "    <tr style=\"text-align: right;\">\n",
       "      <th></th>\n",
       "      <th>Reporting_PHU</th>\n",
       "      <th>Neighborhood Latitude</th>\n",
       "      <th>Neighborhood Longitude</th>\n",
       "      <th>Venue</th>\n",
       "      <th>Venue Latitude</th>\n",
       "      <th>Venue Longitude</th>\n",
       "      <th>Venue Category</th>\n",
       "    </tr>\n",
       "  </thead>\n",
       "  <tbody>\n",
       "    <tr>\n",
       "      <th>0</th>\n",
       "      <td>Algoma Public Health Unit</td>\n",
       "      <td>46.532373</td>\n",
       "      <td>-84.314836</td>\n",
       "      <td>Shogun Sushi</td>\n",
       "      <td>46.530801</td>\n",
       "      <td>-84.319091</td>\n",
       "      <td>Sushi Restaurant</td>\n",
       "    </tr>\n",
       "    <tr>\n",
       "      <th>1</th>\n",
       "      <td>Algoma Public Health Unit</td>\n",
       "      <td>46.532373</td>\n",
       "      <td>-84.314836</td>\n",
       "      <td>Burger Don</td>\n",
       "      <td>46.522580</td>\n",
       "      <td>-84.319638</td>\n",
       "      <td>Burger Joint</td>\n",
       "    </tr>\n",
       "    <tr>\n",
       "      <th>2</th>\n",
       "      <td>Algoma Public Health Unit</td>\n",
       "      <td>46.532373</td>\n",
       "      <td>-84.314836</td>\n",
       "      <td>Fratellis</td>\n",
       "      <td>46.542842</td>\n",
       "      <td>-84.318774</td>\n",
       "      <td>Italian Restaurant</td>\n",
       "    </tr>\n",
       "    <tr>\n",
       "      <th>3</th>\n",
       "      <td>Algoma Public Health Unit</td>\n",
       "      <td>46.532373</td>\n",
       "      <td>-84.314836</td>\n",
       "      <td>YMCA</td>\n",
       "      <td>46.521494</td>\n",
       "      <td>-84.316275</td>\n",
       "      <td>Gym / Fitness Center</td>\n",
       "    </tr>\n",
       "    <tr>\n",
       "      <th>4</th>\n",
       "      <td>Algoma Public Health Unit</td>\n",
       "      <td>46.532373</td>\n",
       "      <td>-84.314836</td>\n",
       "      <td>North 82</td>\n",
       "      <td>46.527674</td>\n",
       "      <td>-84.319183</td>\n",
       "      <td>Steakhouse</td>\n",
       "    </tr>\n",
       "  </tbody>\n",
       "</table>\n",
       "</div>"
      ],
      "text/plain": [
       "               Reporting_PHU  Neighborhood Latitude  Neighborhood Longitude  \\\n",
       "0  Algoma Public Health Unit              46.532373              -84.314836   \n",
       "1  Algoma Public Health Unit              46.532373              -84.314836   \n",
       "2  Algoma Public Health Unit              46.532373              -84.314836   \n",
       "3  Algoma Public Health Unit              46.532373              -84.314836   \n",
       "4  Algoma Public Health Unit              46.532373              -84.314836   \n",
       "\n",
       "          Venue  Venue Latitude  Venue Longitude        Venue Category  \n",
       "0  Shogun Sushi       46.530801       -84.319091      Sushi Restaurant  \n",
       "1    Burger Don       46.522580       -84.319638          Burger Joint  \n",
       "2     Fratellis       46.542842       -84.318774    Italian Restaurant  \n",
       "3          YMCA       46.521494       -84.316275  Gym / Fitness Center  \n",
       "4      North 82       46.527674       -84.319183            Steakhouse  "
      ]
     },
     "execution_count": 12,
     "metadata": {},
     "output_type": "execute_result"
    }
   ],
   "source": [
    "print(Ontario_venues.shape)\n",
    "Ontario_venues.head()"
   ]
  }
 ],
 "metadata": {
  "kernelspec": {
   "display_name": "Python",
   "language": "python",
   "name": "conda-env-python-py"
  },
  "language_info": {
   "codemirror_mode": {
    "name": "ipython",
    "version": 3
   },
   "file_extension": ".py",
   "mimetype": "text/x-python",
   "name": "python",
   "nbconvert_exporter": "python",
   "pygments_lexer": "ipython3",
   "version": "3.6.11"
  }
 },
 "nbformat": 4,
 "nbformat_minor": 4
}
